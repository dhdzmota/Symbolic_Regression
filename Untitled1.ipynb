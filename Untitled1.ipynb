{
 "cells": [
  {
   "cell_type": "code",
   "execution_count": 22,
   "metadata": {},
   "outputs": [],
   "source": [
    "import numpy as np\n",
    "import pandas as pd\n",
    "\n",
    "import gplearn as gp\n",
    "from gplearn.genetic import SymbolicRegressor\n",
    "from gplearn.functions import make_function\n",
    "\n",
    "import matplotlib.pyplot as plt"
   ]
  },
  {
   "cell_type": "code",
   "execution_count": 24,
   "metadata": {},
   "outputs": [
    {
     "data": {
      "text/html": [
       "<div>\n",
       "<style scoped>\n",
       "    .dataframe tbody tr th:only-of-type {\n",
       "        vertical-align: middle;\n",
       "    }\n",
       "\n",
       "    .dataframe tbody tr th {\n",
       "        vertical-align: top;\n",
       "    }\n",
       "\n",
       "    .dataframe thead th {\n",
       "        text-align: right;\n",
       "    }\n",
       "</style>\n",
       "<table border=\"1\" class=\"dataframe\">\n",
       "  <thead>\n",
       "    <tr style=\"text-align: right;\">\n",
       "      <th></th>\n",
       "      <th>Step</th>\n",
       "      <th>Time</th>\n",
       "      <th>Temp</th>\n",
       "      <th>PotEng</th>\n",
       "      <th>KinEng</th>\n",
       "      <th>TotEng</th>\n",
       "      <th>Press</th>\n",
       "      <th>Volume</th>\n",
       "      <th>Density</th>\n",
       "    </tr>\n",
       "  </thead>\n",
       "  <tbody>\n",
       "    <tr>\n",
       "      <th>0</th>\n",
       "      <td>0.0</td>\n",
       "      <td>0.00</td>\n",
       "      <td>300.00000</td>\n",
       "      <td>-404720.66</td>\n",
       "      <td>3886.3801</td>\n",
       "      <td>-400834.28</td>\n",
       "      <td>100868.09</td>\n",
       "      <td>122579.92</td>\n",
       "      <td>0.838556</td>\n",
       "    </tr>\n",
       "    <tr>\n",
       "      <th>1</th>\n",
       "      <td>1.0</td>\n",
       "      <td>0.01</td>\n",
       "      <td>299.97157</td>\n",
       "      <td>-404720.30</td>\n",
       "      <td>3886.0118</td>\n",
       "      <td>-400834.28</td>\n",
       "      <td>100869.86</td>\n",
       "      <td>122579.92</td>\n",
       "      <td>0.838555</td>\n",
       "    </tr>\n",
       "    <tr>\n",
       "      <th>2</th>\n",
       "      <td>2.0</td>\n",
       "      <td>0.02</td>\n",
       "      <td>299.95348</td>\n",
       "      <td>-404720.08</td>\n",
       "      <td>3885.7775</td>\n",
       "      <td>-400834.31</td>\n",
       "      <td>100871.55</td>\n",
       "      <td>122579.94</td>\n",
       "      <td>0.838555</td>\n",
       "    </tr>\n",
       "    <tr>\n",
       "      <th>3</th>\n",
       "      <td>3.0</td>\n",
       "      <td>0.03</td>\n",
       "      <td>299.94573</td>\n",
       "      <td>-404720.02</td>\n",
       "      <td>3885.6772</td>\n",
       "      <td>-400834.34</td>\n",
       "      <td>100873.19</td>\n",
       "      <td>122579.96</td>\n",
       "      <td>0.838555</td>\n",
       "    </tr>\n",
       "    <tr>\n",
       "      <th>4</th>\n",
       "      <td>4.0</td>\n",
       "      <td>0.04</td>\n",
       "      <td>299.94829</td>\n",
       "      <td>-404720.35</td>\n",
       "      <td>3885.7102</td>\n",
       "      <td>-400834.64</td>\n",
       "      <td>100875.84</td>\n",
       "      <td>122580.00</td>\n",
       "      <td>0.838555</td>\n",
       "    </tr>\n",
       "  </tbody>\n",
       "</table>\n",
       "</div>"
      ],
      "text/plain": [
       "   Step  Time       Temp     PotEng     KinEng     TotEng      Press  \\\n",
       "0   0.0  0.00  300.00000 -404720.66  3886.3801 -400834.28  100868.09   \n",
       "1   1.0  0.01  299.97157 -404720.30  3886.0118 -400834.28  100869.86   \n",
       "2   2.0  0.02  299.95348 -404720.08  3885.7775 -400834.31  100871.55   \n",
       "3   3.0  0.03  299.94573 -404720.02  3885.6772 -400834.34  100873.19   \n",
       "4   4.0  0.04  299.94829 -404720.35  3885.7102 -400834.64  100875.84   \n",
       "\n",
       "      Volume   Density  \n",
       "0  122579.92  0.838556  \n",
       "1  122579.92  0.838555  \n",
       "2  122579.94  0.838555  \n",
       "3  122579.96  0.838555  \n",
       "4  122580.00  0.838555  "
      ]
     },
     "execution_count": 24,
     "metadata": {},
     "output_type": "execute_result"
    }
   ],
   "source": [
    "# Read data from the files\n",
    "with open('./Data/initial_trial8.txt','r') as fout:\n",
    "    data_values = fout.read()\n",
    "\n",
    "# Clean and separate data\n",
    "values = data_values.split('Mbytes\\n')[1].split('\\nLoop time')[0].split('\\n')\n",
    "# Order data in a list\n",
    "clean_values = [list(filter(lambda x: x !='', values[i].split(' '))) for i in range(len(values))]\n",
    "\n",
    "# Create a Dataframe\n",
    "dataframe = pd.DataFrame(clean_values[1:],columns=clean_values[0], dtype=float)\n",
    "X0 = np.array(dataframe.Time)/100\n",
    "Y0 = dataframe.Density*10\n",
    "Y0 = Y0-Y0.mean()\n",
    "\n",
    "dataframe.head()"
   ]
  },
  {
   "cell_type": "code",
   "execution_count": 25,
   "metadata": {},
   "outputs": [],
   "source": [
    "# Since the functions are not defined in the python language, one can compute the operations:\n",
    "def sub(a,b):\n",
    "    return a-b\n",
    "def add(a,b):\n",
    "    return a+b\n",
    "def mul(a,b):\n",
    "    return a*b\n",
    "def sin(a):\n",
    "    return np.sin(a)\n",
    "def div(a,b):\n",
    "    return a/b\n",
    "def log(a):\n",
    "    return np.log(np.abs(a))\n",
    "def cos(a):\n",
    "    return np.cos(a)\n",
    "def neg(a):\n",
    "    return -1*a\n",
    "def exp(x1):\n",
    "    with np.errstate(over='ignore'):\n",
    "        return np.where(np.abs(x1) < 50, np.exp(x1), 0.)\n",
    "def sq(x1):\n",
    "    return x1*x1\n",
    "def cu(x1):\n",
    "    return x1*x1*x1\n",
    "\n",
    "# Now a copy and paste of the output can be generated"
   ]
  },
  {
   "cell_type": "code",
   "execution_count": null,
   "metadata": {},
   "outputs": [
    {
     "name": "stdout",
     "output_type": "stream",
     "text": [
      "    |   Population Average    |             Best Individual              |\n",
      "---- ------------------------- ------------------------------------------ ----------\n",
      " Gen   Length          Fitness   Length          Fitness      OOB Fitness  Time Left\n",
      "   0    12.57      3.03337e+38        7        0.0674056              N/A    114.78m\n",
      "   1    11.59      9.40782e+22        7        0.0674056              N/A    114.14m\n",
      "   2    15.29      1.56468e+24        7        0.0674056              N/A    135.78m\n",
      "   3    18.41      2.26558e+17        7        0.0674056              N/A    150.00m\n",
      "   4    20.20      3.51285e+17        8        0.0609669              N/A    162.82m\n",
      "   5    18.58      1.44035e+17        8        0.0609669              N/A    144.55m\n",
      "   6    15.95      8.45533e+16        9        0.0606536              N/A    133.53m\n",
      "   7     9.49      9.16568e+16        9        0.0606536              N/A     76.88m\n",
      "   8     7.34      2.25842e+22        9        0.0606536              N/A     58.56m\n",
      "   9     7.93      3.62108e+16       10        0.0604382              N/A     71.04m\n",
      "  10     8.23      5.66009e+16       10        0.0604382              N/A     74.99m\n",
      "  11     8.72      1.01363e+37       11        0.0604253              N/A     77.25m\n",
      "  12     9.14      9.23038e+15       11        0.0603182              N/A     76.70m\n",
      "  13     9.78      9.08522e+15       12        0.0602933              N/A     84.75m\n",
      "  14    10.44            7.097       12        0.0602933              N/A     94.98m\n",
      "  15    11.21      6.05283e+15       12        0.0602933              N/A    118.18m\n",
      "  16    11.46        1.623e+14       12        0.0602933              N/A    116.31m\n",
      "  17    11.70         0.822883       12        0.0601045              N/A    112.24m\n",
      "  18    11.67      4.32554e+15       12        0.0599684              N/A    122.74m\n",
      "  19    11.70      4.80556e+15       12        0.0599684              N/A    112.24m\n",
      "  20    11.69      1.56936e+15       11        0.0598402              N/A    115.02m\n",
      "  21    11.68      3.02841e+15       10        0.0598017              N/A    111.80m\n",
      "  22    11.58         0.932016       10        0.0598017              N/A    100.85m\n",
      "  23    11.00      4.43787e+16       10        0.0598017              N/A     91.54m\n",
      "  24    10.47      1.18877e+16       10        0.0598017              N/A     84.75m\n",
      "  25     9.95      4.70264e+17        9        0.0597371              N/A     78.49m\n",
      "  26     9.80      8.86284e+15        9        0.0597371              N/A     76.58m\n",
      "  27     9.91          41.5274       13        0.0597256              N/A     76.33m\n",
      "  28     9.87      3.02841e+15       13        0.0597256              N/A     77.04m\n",
      "  29     9.89      5.51919e+15        9        0.0596916              N/A     75.55m\n",
      "  30    10.01      3.94382e+07       12        0.0596458              N/A     75.39m\n",
      "  31    10.36      1.05852e+17       12        0.0595985              N/A     78.15m\n",
      "  32    11.34      4.77056e+15       12        0.0595985              N/A     86.13m\n",
      "  33    11.40         0.471195       12        0.0595985              N/A     87.15m\n",
      "  34    11.52      7.37417e+15       12        0.0595985              N/A     88.10m\n",
      "  35    11.52      1.55421e+17       12        0.0595985              N/A     85.87m\n",
      "  36    11.52      3.02651e+15       13        0.0595887              N/A     87.02m\n",
      "  37    11.69      1.41888e+16       13        0.0595887              N/A     89.59m\n",
      "  38    11.75      8.60153e+15       13        0.0595887              N/A     89.54m\n",
      "  39    11.80      1.63435e+16       13        0.0595887              N/A     91.16m\n",
      "  40    11.77           420435       13        0.0595887              N/A     91.40m\n",
      "  41    11.90      1.28727e+16       13        0.0595887              N/A     93.91m\n",
      "  42    12.15      1.31737e+15       14        0.0595881              N/A    102.30m\n",
      "  43    12.54      3.02591e+15       14        0.0595881              N/A    114.13m\n",
      "  44    12.78       8.0471e+15       14        0.0595881              N/A    116.66m\n",
      "  45    12.80      5.76934e+15       14        0.0595881              N/A    117.61m\n",
      "  46    13.11      3.02841e+15       22        0.0590722              N/A    122.22m\n",
      "  47    13.54      4.27886e+18       22        0.0590722              N/A    125.96m\n",
      "  48    13.82         0.730924       27        0.0590511              N/A    128.04m\n",
      "  49    14.88       2.7278e+13       27        0.0580218              N/A    134.97m\n",
      "  50    19.95          9.39956       29         0.057755              N/A    170.41m\n",
      "  51    26.62          29.6771       52        0.0569048              N/A    214.31m\n",
      "  52    31.36      3.02841e+15       53        0.0566624              N/A    249.34m\n",
      "  53    37.22          0.21633       68        0.0564061              N/A    288.30m\n",
      "  54    44.74          38624.6       40        0.0551599              N/A    347.81m\n",
      "  55    57.04      1.20305e+17       51        0.0542034              N/A    440.13m\n",
      "  56    66.55         0.121248       71        0.0532024              N/A    512.33m\n",
      "  57    74.82      2.54033e+14       79        0.0528292              N/A    565.26m\n",
      "  58    78.21          38173.4      161        0.0494786              N/A    588.43m\n",
      "  59    80.81      3.14685e+16      141        0.0474275              N/A    590.99m\n",
      "  60    95.44           113509      160        0.0435585              N/A    679.40m\n",
      "  61   106.72         0.112943      160        0.0435585              N/A    769.35m\n",
      "  62   132.36         0.105175      160        0.0435585              N/A    952.08m\n",
      "  63   113.96          173.737       95        0.0427756              N/A    790.24m\n",
      "  64   133.92        0.0879372       97         0.042036              N/A    927.94m\n",
      "  65   167.76        0.0757819      328        0.0416622              N/A   1186.84m\n",
      "  66   177.14        0.0781685      167        0.0414604              N/A   1241.94m\n",
      "  67   186.41          7.22529      369        0.0399858              N/A   1281.90m\n",
      "  68   209.89        0.0694525      147         0.039871              N/A   1424.05m\n",
      "  69   257.87        0.0671983      165        0.0396109              N/A   1751.62m\n",
      "  70   292.73           210218      294        0.0389699              N/A   1992.67m\n",
      "  71   363.41      3.02841e+15      444        0.0386193              N/A   2472.42m\n",
      "  72   315.62        0.0611432      199        0.0384596              N/A   2136.95m\n",
      "  73   321.20        0.0639143      445        0.0383018              N/A   2145.69m\n",
      "  74   351.02        0.0647264      108        0.0380622              N/A   2311.26m\n",
      "  75   404.53        0.0538015      130         0.037823              N/A   2665.37m\n",
      "  76   383.82         0.063624      524        0.0377132              N/A   2524.58m\n",
      "  77   522.54         0.051364      494        0.0376706              N/A   3339.42m\n",
      "  78   544.46        0.0574369      271         0.036911              N/A   3470.15m\n",
      "  79   568.55        0.0559636      271         0.036911              N/A   3606.25m\n",
      "  80   518.20        0.0513967      325        0.0368961              N/A   3296.78m\n",
      "  81   513.25        0.0506587      241        0.0368687              N/A   3222.41m\n",
      "  82   442.46      7.76576e+14      287        0.0368034              N/A   2754.26m\n",
      "  83   386.21      4.94631e+15      988        0.0367483              N/A   2394.24m\n",
      "  84   360.31        0.0537257      366        0.0367198              N/A   2227.27m\n",
      "  85   403.62        0.0673018      514        0.0362164              N/A   2493.18m\n",
      "  86   537.52        0.0635838      682        0.0362081              N/A   3297.47m\n",
      "  87   655.86        0.0493368      764        0.0362081              N/A   3964.86m\n",
      "  88   488.32        0.0532517      287        0.0359555              N/A   2944.25m\n",
      "  89   561.90        0.0498167      278        0.0359158              N/A   3406.04m\n",
      "  90   531.05        0.0669988      300        0.0359096              N/A   3180.18m\n",
      "  91   518.09        0.0527401      386        0.0358218              N/A   3081.24m\n",
      "  92   415.31        0.0636432      262        0.0357038              N/A   2549.18m\n",
      "  93   378.44        0.0553418      293        0.0357038              N/A   2323.29m\n"
     ]
    },
    {
     "name": "stdout",
     "output_type": "stream",
     "text": [
      "  94   404.04        0.0920692      249        0.0356021              N/A   2463.98m\n",
      "  95   377.06        0.0549022      249        0.0356021              N/A   2310.65m\n",
      "  96   374.67         0.369298      595        0.0352459              N/A   2282.45m\n",
      "  97   378.41         0.057429      415        0.0352153              N/A   2279.55m\n",
      "  98   412.54        0.0548815      717        0.0352148              N/A   2464.13m\n",
      "  99   431.89        0.0539908      374        0.0351476              N/A   2561.71m\n",
      " 100   592.22        0.0885946      518        0.0351188              N/A   3484.14m\n",
      " 101   534.30        0.0506805      447        0.0350156              N/A   3152.13m\n",
      " 102   485.02       1.9068e+15      347         0.034985              N/A   2867.11m\n",
      " 103   507.40         0.048855      554        0.0349706              N/A   2990.32m\n",
      " 104   539.63        0.0490246      391        0.0349365              N/A   3141.44m\n",
      " 105   496.39        0.0502283      526        0.0348697              N/A   2871.12m\n",
      " 106   484.41        0.0512224      533        0.0348697              N/A   2801.45m\n",
      " 107   514.34        0.0482851      809        0.0348457              N/A   2955.88m\n",
      " 108   548.58      1.08635e+17      522        0.0348394              N/A   3128.40m\n",
      " 109   571.92        0.0480108     1151        0.0348292              N/A   3306.25m\n",
      " 110   605.19        0.0498295      499        0.0347983              N/A   3485.32m\n",
      " 111   680.30        0.0458757     1792        0.0347177              N/A   3878.54m\n",
      " 112   725.30        0.0468697     1795        0.0347161              N/A   4104.44m\n",
      " 113   864.94         0.043928     1823        0.0346963              N/A   4832.54m\n"
     ]
    }
   ],
   "source": [
    "exponential = make_function(function=exp,arity=1,name='exp')\n",
    "# Use the Symbolic Regressor to find a function\n",
    "est_gp =  SymbolicRegressor(population_size=7000, \n",
    "                           tournament_size=15,\n",
    "                           const_range=(-5,5),\n",
    "                           generations=300,\n",
    "                           stopping_criteria=0.0001,\n",
    "                           function_set = ['add', 'mul', 'sin','neg',exponential],\n",
    "                           p_crossover=0.7,\n",
    "                           p_subtree_mutation=0.1,\n",
    "                           max_samples=1,\n",
    "                           verbose=1,\n",
    "                           parsimony_coefficient=0.00000001)\n",
    "# Fit with the data\n",
    "est_gp.fit(X0.reshape(-1, 1), Y0)\n",
    "\n",
    "# Print the final result\n",
    "print(est_gp._program)"
   ]
  },
  {
   "cell_type": "code",
   "execution_count": 27,
   "metadata": {},
   "outputs": [
    {
     "data": {
      "text/plain": [
       "[<matplotlib.lines.Line2D at 0x7fd24c4c1f60>]"
      ]
     },
     "execution_count": 27,
     "metadata": {},
     "output_type": "execute_result"
    },
    {
     "data": {
      "image/png": "[encoded data removed]",
      "text/plain": [
       "<Figure size 432x288 with 1 Axes>"
      ]
     },
     "metadata": {
      "needs_background": "light"
     },
     "output_type": "display_data"
    }
   ],
   "source": [
    "y_reg = add(add(exp(neg(exp(exp(sin(X0))))), mul(sin(add(exp(neg(exp(exp(sin(X0))))), \n",
    "        mul(sin(add(exp(neg(exp(exp(X0)))), mul(neg(add(X0, X0)), exp(sin(X0))))), \n",
    "        exp(mul(X0, sin(add(exp(neg(exp(exp(sin(X0))))), mul(neg(add(X0, X0)), exp(\n",
    "        sin(sin(mul(sin(X0), exp(add(sin(sin(exp(-3.453))), mul(sin(neg(add(X0, X0))), exp(\n",
    "        neg(sin(exp(add(sin(sin(add(exp(neg(exp(exp(sin(X0))))), mul(sin(add(exp(neg(exp(\n",
    "        exp(X0)))), mul(neg(add(X0, X0)), exp(sin(X0))))), exp(mul(X0, sin(add(exp(neg(exp(\n",
    "        exp(sin(X0))))), mul(neg(add(X0, X0)), exp(sin(sin(mul(sin(X0), exp(add(sin(sin(exp(\n",
    "        -3.453))), mul(sin(neg(add(X0, X0))), exp(sin(X0)))))))))))))))))), mul(sin(neg(add(\n",
    "        X0, X0))), sin(sin(X0))))))))))))))))))))))), exp(mul(X0, neg(add(X0, X0)))))), mul(\n",
    "        sin(neg(mul(mul(sin(X0), exp(add(sin(sin(neg(0.118))), mul(exp(mul(neg(add(\n",
    "        -1.044, 0.729)), neg(sin(add(exp(-0.267), mul(neg(add(X0, X0)), exp(sin(X0)))))))), sin(\n",
    "        sin(X0)))))), exp(-3.453)))), exp(sin(sin(mul(sin(X0), exp(neg(sin(add(add(add(exp(neg(\n",
    "        exp(exp(sin(X0))))), mul(sin(add(exp(neg(exp(exp(sin(X0))))), mul(sin(add(neg(sin(add(\n",
    "        exp(-0.267), mul(neg(add(X0, X0)), exp(sin(X0)))))), mul(neg(add(X0, X0)), exp(sin(\n",
    "        X0))))), exp(mul(X0, neg(mul(neg(add(-1.044, 0.729)), neg(sin(add(exp(-0.267), mul(neg(\n",
    "        add(X0, X0)), exp(sin(X0))))))))))))), exp(mul(X0, sin(add(exp(-0.267), mul(neg(add(\n",
    "        X0, X0)), exp(sin(X0))))))))), mul(sin(neg(mul(sin(mul(exp(mul(neg(add(-1.044, 0.729)), neg(\n",
    "        add(exp(neg(exp(exp(neg(exp(exp(sin(X0)))))))), sin(add(exp(neg(exp(exp(sin(X0))))), mul(\n",
    "        neg(add(X0, X0)), exp(sin(X0))))))))), sin(sin(X0)))), sin(X0)))), exp(mul(sin(X0), exp(\n",
    "        add(sin(sin(neg(0.118))), mul(sin(sin(sin(X0))), sin(sin(X0))))))))), mul(neg(add(\n",
    "        X0, X0)), exp(sin(X0)))))))))))))\n",
    "\n",
    "plt.plot(X0,Y0,c='b')\n",
    "plt.plot(X0,y_reg,c='g')\n",
    "err= y_reg-Y0\n",
    "plt.plot(X0,err, c='r')"
   ]
  },
  {
   "cell_type": "code",
   "execution_count": 151,
   "metadata": {},
   "outputs": [
    {
     "name": "stdout",
     "output_type": "stream",
     "text": [
      "    |   Population Average    |             Best Individual              |\n",
      "---- ------------------------- ------------------------------------------ ----------\n",
      " Gen   Length          Fitness   Length          Fitness      OOB Fitness  Time Left\n",
      "   0    15.76      1.08913e+37       13          1.19272              N/A      2.66m\n",
      "   1    13.12      1.51056e+22       12          1.19145              N/A      2.02m\n",
      "   2    15.75      4.14491e+17       26          1.14784              N/A      2.08m\n",
      "   3    15.50      1.41406e+17       38          1.09872              N/A      1.74m\n",
      "   4    20.55      6.84766e+17       25          0.95888              N/A      1.84m\n",
      "   5    28.24       2.1056e+17       35         0.871573              N/A      1.90m\n",
      "   6    30.20      4.77855e+17       49         0.827938              N/A      1.51m\n",
      "   7    28.27      2.67657e+17       56         0.722751              N/A     54.05s\n",
      "   8    31.08      3.57003e+17       86         0.721651              N/A     29.02s\n",
      "   9    41.56      3.67073e+17       63         0.720958              N/A      0.00s\n",
      "mul(mul(mul(0.653, X0), div(mul(X0, 0.174), div(X0, X0))), div(sin1(mul(mul(0.653, X0), neg(-0.311))), add(exp(add(add(div(-0.585, X0), exp(X0)), neg(mul(add(add(div(-0.585, X0), exp(add(0.216, X0))), neg(mul(-0.939, -0.423))), -0.423)))), exp(sin1(exp(mul(sin1(add(div(mul(X0, 0.174), div(X0, X0)), exp(sin1(0.756)))), exp(-0.616))))))))\n"
     ]
    }
   ],
   "source": [
    "def sin1(z):\n",
    "    return sin(10*z)\n",
    "sin10 = make_function(function=sin1,arity=1,name='sin1')\n",
    "\n",
    "# Use the Symbolic Regressor to find a function\n",
    "est_gp_err =  SymbolicRegressor(population_size=5000, \n",
    "                           tournament_size=40,\n",
    "                           const_range=(-1,1),\n",
    "                           generations=10,\n",
    "                           stopping_criteria=0.01,\n",
    "                           function_set = ['add', 'mul','neg',exponential, 'div', sin10],\n",
    "                           p_crossover=0.7,\n",
    "                           p_subtree_mutation=0.1,\n",
    "                           max_samples=1,\n",
    "                           verbose=1,\n",
    "                           parsimony_coefficient=0.00001)\n",
    "# Fit with the data\n",
    "est_gp_err.fit(X0.reshape(-1, 1),100*err)\n",
    "\n",
    "# Print the final result\n",
    "print(est_gp_err._program)"
   ]
  },
  {
   "cell_type": "code",
   "execution_count": 154,
   "metadata": {},
   "outputs": [
    {
     "name": "stderr",
     "output_type": "stream",
     "text": [
      "/home/dhdzmota/.local/lib/python3.7/site-packages/ipykernel_launcher.py:11: RuntimeWarning: invalid value encountered in true_divide\n",
      "  # This is added back by InteractiveShellApp.init_path()\n"
     ]
    },
    {
     "data": {
      "text/plain": [
       "[<matplotlib.lines.Line2D at 0x7f8a42f474e0>]"
      ]
     },
     "execution_count": 154,
     "metadata": {},
     "output_type": "execute_result"
    },
    {
     "data": {
      "image/png": "[encoded data removed]",
      "text/plain": [
       "<Figure size 432x288 with 1 Axes>"
      ]
     },
     "metadata": {
      "needs_background": "light"
     },
     "output_type": "display_data"
    }
   ],
   "source": [
    "y_err = div(mul(neg(sin(add(sin(0.109), add(X0, X0)))), mul(neg(div(-0.321, -0.451)), mul(div(-0.872, 0.669), sin(div(add(X0, X0), neg(X0)))))), exp(add(div(sin(X0), 0.984), sin(div(mul(exp(neg(sin(div(div(neg(neg(neg(X0))), add(add(div(-0.452, -0.994), exp(0.814)), neg(X0))), 0.759)))), mul(add(add(div(-0.452, -0.994), exp(0.814)), neg(neg(-0.230))), neg(mul(sin(add(X0, X0)), sin(sin(X0)))))), 0.759)))))\n",
    "\n",
    "\n",
    "plt.plot(X0,y_err/100)\n",
    "plt.plot(X0,err)"
   ]
  },
  {
   "cell_type": "code",
   "execution_count": 21,
   "metadata": {},
   "outputs": [
    {
     "name": "stdout",
     "output_type": "stream",
     "text": [
      "None\n"
     ]
    }
   ],
   "source": [
    "pd.DataFrame([X0,Y0]).T.rename(columns = {0:'x', 1:'y'}).to_csv('data.txt',index=False)"
   ]
  },
  {
   "cell_type": "code",
   "execution_count": null,
   "metadata": {},
   "outputs": [],
   "source": []
  }
 ],
 "metadata": {
  "kernelspec": {
   "display_name": "Python 3",
   "language": "python",
   "name": "python3"
  },
  "language_info": {
   "codemirror_mode": {
    "name": "ipython",
    "version": 3
   },
   "file_extension": ".py",
   "mimetype": "text/x-python",
   "name": "python",
   "nbconvert_exporter": "python",
   "pygments_lexer": "ipython3",
   "version": "3.7.3"
  }
 },
 "nbformat": 4,
 "nbformat_minor": 2
}
