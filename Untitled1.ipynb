{
 "cells": [
  {
   "cell_type": "code",
   "execution_count": 28,
   "metadata": {},
   "outputs": [],
   "source": [
    "import numpy as np\n",
    "import pandas as pd\n",
    "\n",
    "import gplearn as gp\n",
    "from gplearn.genetic import SymbolicRegressor\n",
    "from gplearn.functions import make_function\n",
    "\n",
    "import matplotlib.pyplot as plt"
   ]
  },
  {
   "cell_type": "code",
   "execution_count": 32,
   "metadata": {},
   "outputs": [
    {
     "data": {
      "text/html": [
       "<div>\n",
       "<style scoped>\n",
       "    .dataframe tbody tr th:only-of-type {\n",
       "        vertical-align: middle;\n",
       "    }\n",
       "\n",
       "    .dataframe tbody tr th {\n",
       "        vertical-align: top;\n",
       "    }\n",
       "\n",
       "    .dataframe thead th {\n",
       "        text-align: right;\n",
       "    }\n",
       "</style>\n",
       "<table border=\"1\" class=\"dataframe\">\n",
       "  <thead>\n",
       "    <tr style=\"text-align: right;\">\n",
       "      <th></th>\n",
       "      <th>Step</th>\n",
       "      <th>Time</th>\n",
       "      <th>Temp</th>\n",
       "      <th>PotEng</th>\n",
       "      <th>KinEng</th>\n",
       "      <th>TotEng</th>\n",
       "      <th>Press</th>\n",
       "      <th>Volume</th>\n",
       "      <th>Density</th>\n",
       "    </tr>\n",
       "  </thead>\n",
       "  <tbody>\n",
       "    <tr>\n",
       "      <th>0</th>\n",
       "      <td>0.0</td>\n",
       "      <td>0.00</td>\n",
       "      <td>300.00000</td>\n",
       "      <td>-404720.66</td>\n",
       "      <td>3886.3801</td>\n",
       "      <td>-400834.28</td>\n",
       "      <td>100868.09</td>\n",
       "      <td>122579.92</td>\n",
       "      <td>0.838556</td>\n",
       "    </tr>\n",
       "    <tr>\n",
       "      <th>1</th>\n",
       "      <td>1.0</td>\n",
       "      <td>0.01</td>\n",
       "      <td>299.97157</td>\n",
       "      <td>-404720.30</td>\n",
       "      <td>3886.0118</td>\n",
       "      <td>-400834.28</td>\n",
       "      <td>100869.86</td>\n",
       "      <td>122579.92</td>\n",
       "      <td>0.838555</td>\n",
       "    </tr>\n",
       "    <tr>\n",
       "      <th>2</th>\n",
       "      <td>2.0</td>\n",
       "      <td>0.02</td>\n",
       "      <td>299.95348</td>\n",
       "      <td>-404720.08</td>\n",
       "      <td>3885.7775</td>\n",
       "      <td>-400834.31</td>\n",
       "      <td>100871.55</td>\n",
       "      <td>122579.94</td>\n",
       "      <td>0.838555</td>\n",
       "    </tr>\n",
       "    <tr>\n",
       "      <th>3</th>\n",
       "      <td>3.0</td>\n",
       "      <td>0.03</td>\n",
       "      <td>299.94573</td>\n",
       "      <td>-404720.02</td>\n",
       "      <td>3885.6772</td>\n",
       "      <td>-400834.34</td>\n",
       "      <td>100873.19</td>\n",
       "      <td>122579.96</td>\n",
       "      <td>0.838555</td>\n",
       "    </tr>\n",
       "    <tr>\n",
       "      <th>4</th>\n",
       "      <td>4.0</td>\n",
       "      <td>0.04</td>\n",
       "      <td>299.94829</td>\n",
       "      <td>-404720.35</td>\n",
       "      <td>3885.7102</td>\n",
       "      <td>-400834.64</td>\n",
       "      <td>100875.84</td>\n",
       "      <td>122580.00</td>\n",
       "      <td>0.838555</td>\n",
       "    </tr>\n",
       "  </tbody>\n",
       "</table>\n",
       "</div>"
      ],
      "text/plain": [
       "   Step  Time       Temp     PotEng     KinEng     TotEng      Press  \\\n",
       "0   0.0  0.00  300.00000 -404720.66  3886.3801 -400834.28  100868.09   \n",
       "1   1.0  0.01  299.97157 -404720.30  3886.0118 -400834.28  100869.86   \n",
       "2   2.0  0.02  299.95348 -404720.08  3885.7775 -400834.31  100871.55   \n",
       "3   3.0  0.03  299.94573 -404720.02  3885.6772 -400834.34  100873.19   \n",
       "4   4.0  0.04  299.94829 -404720.35  3885.7102 -400834.64  100875.84   \n",
       "\n",
       "      Volume   Density  \n",
       "0  122579.92  0.838556  \n",
       "1  122579.92  0.838555  \n",
       "2  122579.94  0.838555  \n",
       "3  122579.96  0.838555  \n",
       "4  122580.00  0.838555  "
      ]
     },
     "execution_count": 32,
     "metadata": {},
     "output_type": "execute_result"
    }
   ],
   "source": [
    "# Read data from the files\n",
    "with open('./Data/initial_trial8.txt','r') as fout:\n",
    "    data_values = fout.read()\n",
    "\n",
    "# Clean and separate data\n",
    "values = data_values.split('Mbytes\\n')[1].split('\\nLoop time')[0].split('\\n')\n",
    "# Order data in a list\n",
    "clean_values = [list(filter(lambda x: x !='', values[i].split(' '))) for i in range(len(values))]\n",
    "\n",
    "# Create a Dataframe\n",
    "dataframe = pd.DataFrame(clean_values[1:],columns=clean_values[0], dtype=float)\n",
    "X0 = np.array(dataframe.Time)/100\n",
    "Y0 = dataframe.Density*100\n",
    "Y0 = Y0-Y0.mean()\n",
    "\n",
    "dataframe.head()"
   ]
  },
  {
   "cell_type": "code",
   "execution_count": 33,
   "metadata": {},
   "outputs": [
    {
     "data": {
      "text/plain": [
       "[<matplotlib.lines.Line2D at 0x7fd24c1ec7f0>]"
      ]
     },
     "execution_count": 33,
     "metadata": {},
     "output_type": "execute_result"
    },
    {
     "data": {
      "image/png": "[encoded data removed]",
      "text/plain": [
       "<Figure size 432x288 with 1 Axes>"
      ]
     },
     "metadata": {
      "needs_background": "light"
     },
     "output_type": "display_data"
    }
   ],
   "source": [
    "plt.plot(X0,Y0)"
   ]
  },
  {
   "cell_type": "code",
   "execution_count": 34,
   "metadata": {},
   "outputs": [],
   "source": [
    "# Since the functions are not defined in the python language, one can compute the operations:\n",
    "def sub(a,b):\n",
    "    return a-b\n",
    "def add(a,b):\n",
    "    return a+b\n",
    "def mul(a,b):\n",
    "    return a*b\n",
    "def sin(a):\n",
    "    return np.sin(a)\n",
    "def div(a,b):\n",
    "    return a/b\n",
    "def log(a):\n",
    "    return np.log(np.abs(a))\n",
    "def cos(a):\n",
    "    return np.cos(a)\n",
    "def neg(a):\n",
    "    return -1*a\n",
    "def exp(x1):\n",
    "    with np.errstate(over='ignore'):\n",
    "        return np.where(np.abs(x1) < 50, np.exp(x1), 0.)\n",
    "def sq(x1):\n",
    "    return x1*x1\n",
    "def cu(x1):\n",
    "    return x1*x1*x1\n",
    "\n",
    "# Now a copy and paste of the output can be generated"
   ]
  },
  {
   "cell_type": "code",
   "execution_count": 44,
   "metadata": {},
   "outputs": [
    {
     "name": "stdout",
     "output_type": "stream",
     "text": [
      "    |   Population Average    |             Best Individual              |\n",
      "---- ------------------------- ------------------------------------------ ----------\n",
      " Gen   Length          Fitness   Length          Fitness      OOB Fitness  Time Left\n",
      "   0    12.63      1.51006e+31       16         0.701146              N/A     13.73m\n",
      "   1     9.93      1.35417e+37       16         0.662856              N/A     11.23m\n",
      "   2    18.66      3.43949e+16       31         0.643685              N/A     16.39m\n",
      "   3    21.03      8.50073e+16       23         0.615942              N/A     16.57m\n",
      "   4    23.92       2.5708e+16       33          0.60625              N/A     15.92m\n",
      "   5    26.52      1.97897e+17       41         0.598647              N/A     16.95m\n",
      "   6    29.17      2.29818e+17       45         0.580347              N/A     18.53m\n",
      "   7    33.90      6.94436e+17       51         0.553215              N/A     23.77m\n",
      "   8    39.42      2.62515e+17       59         0.541535              N/A     24.95m\n",
      "   9    45.38      9.26696e+16       83         0.509823              N/A     20.86m\n",
      "  10    48.61      2.32176e+17       83         0.468191              N/A     17.38m\n",
      "  11    59.40       1.1344e+17      101         0.435212              N/A     20.17m\n",
      "  12    66.93      4.29393e+16      101          0.42008              N/A     22.71m\n",
      "  13    82.67      4.85634e+16      118          0.37192              N/A     23.52m\n",
      "  14    96.94      9.09726e+15      121         0.355069              N/A     27.35m\n",
      "  15   101.14      1.31448e+17      162         0.313288              N/A     27.28m\n",
      "  16   109.62      2.55533e+16      182         0.292363              N/A     30.24m\n",
      "  17   110.15      6.81495e+15      182          0.26645              N/A     29.48m\n",
      "  18   120.22      3.64171e+16      133         0.229784              N/A     26.57m\n",
      "  19   135.60       3.8059e+16      119         0.223908              N/A     27.61m\n",
      "  20   121.11      3.16643e+16      169         0.179844              N/A     23.19m\n",
      "  21   127.05      3.89149e+16      169         0.179844              N/A     21.15m\n",
      "  22   121.51      4.32461e+16      168         0.179039              N/A     16.25m\n",
      "  23   151.16      2.60472e+16      187         0.177154              N/A     17.01m\n",
      "  24   168.09      7.15798e+15      189         0.172403              N/A     15.59m\n",
      "  25   166.01      2.76981e+15      160         0.169709              N/A     12.24m\n",
      "  26   165.64      3.11398e+16      166         0.169089              N/A     13.53m\n",
      "  27   162.32      2.56298e+16      164         0.168466              N/A      9.92m\n",
      "  28   162.09      3.83148e+16      161         0.164359              N/A      5.01m\n",
      "  29   160.11      8.09869e+16      161         0.164359              N/A      0.00s\n",
      "mul(add(mul(exp(neg(X0)), sin(neg(mul(exp(neg(neg(sin(X0)))), mul(exp(exp(-0.598)), sin(X0)))))), add(mul(sin(exp(neg(add(X0, -0.816)))), sin(neg(mul(exp(sin(0.312)), mul(exp(exp(-0.598)), add(X0, sin(X0))))))), add(mul(sin(exp(neg(X0))), sin(neg(mul(exp(neg(neg(neg(mul(X0, X0))))), mul(exp(exp(-0.598)), sin(X0)))))), add(mul(sin(exp(neg(X0))), sin(neg(mul(neg(mul(X0, X0)), X0)))), add(mul(sin(exp(neg(X0))), sin(add(neg(exp(add(neg(neg(sin(X0))), neg(neg(sin(X0)))))), sin(exp(-0.818))))), add(mul(sin(exp(add(add(mul(X0, -0.474), mul(0.622, -0.007)), mul(exp(neg(add(X0, -0.816))), neg(-0.546))))), sin(neg(exp(add(sin(X0), neg(neg(sin(X0)))))))), neg(exp(sin(0.312))))))))), add(add(neg(mul(0.852, -0.560)), neg(mul(0.287, X0))), neg(neg(sin(neg(neg(add(mul(sin(exp(neg(X0))), neg(neg(sin(X0)))), sin(X0)))))))))\n"
     ]
    }
   ],
   "source": [
    "exponential = make_function(function=exp,arity=1,name='exp')\n",
    "# Use the Symbolic Regressor to find a function\n",
    "est_gp =  SymbolicRegressor(population_size=5000, \n",
    "                           const_range=(-1,1),\n",
    "                           tournament_size = 50,\n",
    "                           generations=30,\n",
    "                           stopping_criteria=0.0001,\n",
    "                           function_set = ['add', 'mul', 'sin','neg',exponential],\n",
    "                           p_crossover=0.7,\n",
    "                           p_subtree_mutation=0.05,\n",
    "                           p_hoist_mutation = 0.01,\n",
    "                           p_point_mutation = 0.1,\n",
    "                           max_samples=1,\n",
    "                           verbose=1,\n",
    "                           parsimony_coefficient=0.0003)\n",
    "# Fit with the data\n",
    "est_gp.fit(X0.reshape(-1, 1), Y0)\n",
    "\n",
    "# Print the final result\n",
    "print(est_gp._program)"
   ]
  },
  {
   "cell_type": "code",
   "execution_count": 48,
   "metadata": {},
   "outputs": [
    {
     "data": {
      "text/plain": [
       "[<matplotlib.lines.Line2D at 0x7fd2465d2c50>]"
      ]
     },
     "execution_count": 48,
     "metadata": {},
     "output_type": "execute_result"
    },
    {
     "data": {
      "image/png": "[encoded data removed]",
      "text/plain": [
       "<Figure size 432x288 with 1 Axes>"
      ]
     },
     "metadata": {
      "needs_background": "light"
     },
     "output_type": "display_data"
    }
   ],
   "source": [
    "y_reg = mul(add(mul(exp(neg(X0)), sin(neg(mul(exp(neg(neg(sin(\n",
    "    X0)))), mul(exp(exp(-0.598)), sin(X0)))))), add(mul(sin(\n",
    "    exp(neg(add(X0, -0.816)))), sin(neg(mul(exp(sin(0.312)), mul(\n",
    "    exp(exp(-0.598)), add(X0, sin(X0))))))), add(mul(sin(exp(\n",
    "    neg(X0))), sin(neg(mul(exp(neg(neg(neg(mul(X0, X0))))), mul(\n",
    "    exp(exp(-0.598)), sin(X0)))))), add(mul(sin(exp(neg(X0))), sin(\n",
    "    neg(mul(neg(mul(X0, X0)), X0)))), add(mul(sin(exp(neg(X0))), sin(\n",
    "    add(neg(exp(add(neg(neg(sin(X0))), neg(neg(sin(X0)))))), sin(\n",
    "    exp(-0.818))))), add(mul(sin(exp(add(add(mul(X0, -0.474), mul(\n",
    "    0.622, -0.007)), mul(exp(neg(add(X0, -0.816))), neg(-0.546))))), sin(\n",
    "    neg(exp(add(sin(X0), neg(neg(sin(X0)))))))), neg(exp(sin(\n",
    "    0.312))))))))), add(add(neg(mul(0.852, -0.560)), neg(mul(\n",
    "    0.287, X0))), neg(neg(sin(neg(neg(add(mul(sin(exp(neg(X0))), neg(neg(\n",
    "    sin(X0)))), sin(X0)))))))))\n",
    "\n",
    "plt.plot(X0,Y0,c='b')\n",
    "plt.plot(X0,y_reg,c='g')\n",
    "err= y_reg-Y0\n",
    "plt.plot(X0,err, c='r')"
   ]
  },
  {
   "cell_type": "code",
   "execution_count": 151,
   "metadata": {},
   "outputs": [
    {
     "name": "stdout",
     "output_type": "stream",
     "text": [
      "    |   Population Average    |             Best Individual              |\n",
      "---- ------------------------- ------------------------------------------ ----------\n",
      " Gen   Length          Fitness   Length          Fitness      OOB Fitness  Time Left\n",
      "   0    15.76      1.08913e+37       13          1.19272              N/A      2.66m\n",
      "   1    13.12      1.51056e+22       12          1.19145              N/A      2.02m\n",
      "   2    15.75      4.14491e+17       26          1.14784              N/A      2.08m\n",
      "   3    15.50      1.41406e+17       38          1.09872              N/A      1.74m\n",
      "   4    20.55      6.84766e+17       25          0.95888              N/A      1.84m\n",
      "   5    28.24       2.1056e+17       35         0.871573              N/A      1.90m\n",
      "   6    30.20      4.77855e+17       49         0.827938              N/A      1.51m\n",
      "   7    28.27      2.67657e+17       56         0.722751              N/A     54.05s\n",
      "   8    31.08      3.57003e+17       86         0.721651              N/A     29.02s\n",
      "   9    41.56      3.67073e+17       63         0.720958              N/A      0.00s\n",
      "mul(mul(mul(0.653, X0), div(mul(X0, 0.174), div(X0, X0))), div(sin1(mul(mul(0.653, X0), neg(-0.311))), add(exp(add(add(div(-0.585, X0), exp(X0)), neg(mul(add(add(div(-0.585, X0), exp(add(0.216, X0))), neg(mul(-0.939, -0.423))), -0.423)))), exp(sin1(exp(mul(sin1(add(div(mul(X0, 0.174), div(X0, X0)), exp(sin1(0.756)))), exp(-0.616))))))))\n"
     ]
    }
   ],
   "source": [
    "def sin1(z):\n",
    "    return sin(10*z)\n",
    "sin10 = make_function(function=sin1,arity=1,name='sin1')\n",
    "\n",
    "# Use the Symbolic Regressor to find a function\n",
    "est_gp_err =  SymbolicRegressor(population_size=5000, \n",
    "                           tournament_size=40,\n",
    "                           const_range=(-1,1),\n",
    "                           generations=10,\n",
    "                           stopping_criteria=0.01,\n",
    "                           function_set = ['add', 'mul','neg',exponential, 'div', sin10],\n",
    "                           p_crossover=0.7,\n",
    "                           p_subtree_mutation=0.1,\n",
    "                           max_samples=1,\n",
    "                           verbose=1,\n",
    "                           parsimony_coefficient=0.00001)\n",
    "# Fit with the data\n",
    "est_gp_err.fit(X0.reshape(-1, 1),100*err)\n",
    "\n",
    "# Print the final result\n",
    "print(est_gp_err._program)"
   ]
  },
  {
   "cell_type": "code",
   "execution_count": 154,
   "metadata": {},
   "outputs": [
    {
     "name": "stderr",
     "output_type": "stream",
     "text": [
      "/home/dhdzmota/.local/lib/python3.7/site-packages/ipykernel_launcher.py:11: RuntimeWarning: invalid value encountered in true_divide\n",
      "  # This is added back by InteractiveShellApp.init_path()\n"
     ]
    },
    {
     "data": {
      "text/plain": [
       "[<matplotlib.lines.Line2D at 0x7f8a42f474e0>]"
      ]
     },
     "execution_count": 154,
     "metadata": {},
     "output_type": "execute_result"
    },
    {
     "data": {
      "image/png": "[encoded data removed]",
      "text/plain": [
       "<Figure size 432x288 with 1 Axes>"
      ]
     },
     "metadata": {
      "needs_background": "light"
     },
     "output_type": "display_data"
    }
   ],
   "source": [
    "y_err = div(mul(neg(sin(add(sin(0.109), add(X0, X0)))), mul(neg(div(-0.321, -0.451)), mul(div(-0.872, 0.669), sin(div(add(X0, X0), neg(X0)))))), exp(add(div(sin(X0), 0.984), sin(div(mul(exp(neg(sin(div(div(neg(neg(neg(X0))), add(add(div(-0.452, -0.994), exp(0.814)), neg(X0))), 0.759)))), mul(add(add(div(-0.452, -0.994), exp(0.814)), neg(neg(-0.230))), neg(mul(sin(add(X0, X0)), sin(sin(X0)))))), 0.759)))))\n",
    "\n",
    "\n",
    "plt.plot(X0,y_err/100)\n",
    "plt.plot(X0,err)"
   ]
  },
  {
   "cell_type": "code",
   "execution_count": 21,
   "metadata": {},
   "outputs": [
    {
     "name": "stdout",
     "output_type": "stream",
     "text": [
      "None\n"
     ]
    }
   ],
   "source": [
    "pd.DataFrame([X0,Y0]).T.rename(columns = {0:'x', 1:'y'}).to_csv('data.txt',index=False)"
   ]
  },
  {
   "cell_type": "code",
   "execution_count": null,
   "metadata": {},
   "outputs": [],
   "source": []
  }
 ],
 "metadata": {
  "kernelspec": {
   "display_name": "Python 3",
   "language": "python",
   "name": "python3"
  },
  "language_info": {
   "codemirror_mode": {
    "name": "ipython",
    "version": 3
   },
   "file_extension": ".py",
   "mimetype": "text/x-python",
   "name": "python",
   "nbconvert_exporter": "python",
   "pygments_lexer": "ipython3",
   "version": "3.7.3"
  }
 },
 "nbformat": 4,
 "nbformat_minor": 2
}
