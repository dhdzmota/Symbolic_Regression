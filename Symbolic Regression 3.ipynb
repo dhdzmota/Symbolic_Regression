{
 "cells": [
  {
   "cell_type": "code",
   "execution_count": 1,
   "metadata": {},
   "outputs": [],
   "source": [
    "import numpy as np\n",
    "import matplotlib.pyplot as plt\n",
    "import seaborn as sns\n",
    "import gplearn as gp\n",
    "from gplearn.genetic import SymbolicRegressor\n",
    "from gplearn.functions import make_function\n",
    "\n",
    "plt.rcParams.update({'mathtext.default':'regular'}) # Latex in text\n",
    "sns.set(context='notebook', font='Times New Roman', font_scale=1, style='ticks')\n",
    "%matplotlib notebook"
   ]
  },
  {
   "cell_type": "code",
   "execution_count": 59,
   "metadata": {},
   "outputs": [
    {
     "data": {
      "text/plain": [
       "[<matplotlib.lines.Line2D at 0x7fe5b3cc2278>]"
      ]
     },
     "execution_count": 59,
     "metadata": {},
     "output_type": "execute_result"
    },
    {
     "data": {
      "image/png": "[encoded data removed]",
      "text/plain": [
       "<Figure size 432x288 with 1 Axes>"
      ]
     },
     "metadata": {
      "needs_background": "light"
     },
     "output_type": "display_data"
    }
   ],
   "source": [
    "x= np.linspace(0,10,200)\n",
    "fun=[0.004*x**3+0.03*x**2+0.5*x+np.random.rand(len(x)),\n",
    "     0.0054*x**4-0.003*x**3+0.03*x**2-.4*x+np.random.rand(len(x)),\n",
    "     x**5+x**4+x**3+x**2+x+np.random.rand(len(x)),\n",
    "     x**6+x**5+x**4+x**3+x**2+x+np.random.rand(len(x)),\n",
    "    np.sin(x**2)*np.cos(x)-1+np.random.rand(len(x)),\n",
    "    np.sin(x)+np.sin(x+x*x)+np.random.rand(len(x)),\n",
    "    np.sin(x)*np.cos(x)-np.log(x+1)+np.random.rand(len(x)),\n",
    "    0.64+np.log(x+1)-np.sin(x)*x+np.random.rand(len(x))]\n",
    "\n",
    "x = x.reshape(-1, 1)\n",
    "plt.plot(x,fun[-1])"
   ]
  },
  {
   "cell_type": "code",
   "execution_count": 53,
   "metadata": {},
   "outputs": [],
   "source": [
    "# Since the functions are not defined, one can compute the operations:\n",
    "def sub(a,b):\n",
    "    return a-b\n",
    "def add(a,b):\n",
    "    return a+b\n",
    "def mul(a,b):\n",
    "    return a*b\n",
    "def tan(a):\n",
    "    return np.tan(a)\n",
    "def sin(a):\n",
    "    return np.sin(a)\n",
    "def div(a,b):\n",
    "    return a/b\n",
    "def log(a):\n",
    "    return np.log(np.abs(a))\n",
    "def cos(a):\n",
    "    return np.cos(a)\n",
    "def neg(a):\n",
    "    return -1*a\n",
    "def exp(x1):\n",
    "    with np.errstate(over='ignore'):\n",
    "        return np.where(np.abs(x1) < 100, np.exp(x1), 0.)"
   ]
  },
  {
   "cell_type": "code",
   "execution_count": 66,
   "metadata": {},
   "outputs": [
    {
     "name": "stdout",
     "output_type": "stream",
     "text": [
      "    |   Population Average    |             Best Individual              |\n",
      "---- ------------------------- ------------------------------------------ ----------\n",
      " Gen   Length          Fitness   Length          Fitness      OOB Fitness  Time Left\n",
      "   0    13.38          25.3361       26          1.55424              N/A      1.20m\n",
      "   1    14.03          3.77889       21          0.57945              N/A      1.14m\n",
      "   2    28.35          4.57532       35         0.436098              N/A      1.33m\n",
      "   3    30.57          4.05778       29          0.39335              N/A      1.23m\n",
      "   4    25.46          3.73237       22         0.299244              N/A      1.13m\n",
      "   5    23.44          3.59209       25         0.264026              N/A      1.05m\n",
      "   6    23.80          3.64975       17         0.261189              N/A      1.09m\n",
      "   7    19.96          3.56973       18         0.257579              N/A     56.34s\n",
      "   8    17.94          3.82171       18         0.257579              N/A     54.87s\n",
      "   9    16.98           3.7885       18         0.257579              N/A     51.02s\n",
      "  10    17.78          3.75757       18         0.253627              N/A     51.74s\n",
      "  11    17.90          3.67159       18         0.253314              N/A     49.93s\n",
      "  12    18.10          3.57305       18         0.253314              N/A     43.37s\n",
      "  13    17.91          3.59961       18         0.253314              N/A     43.69s\n",
      "  14    17.98          3.65599       18         0.253314              N/A     39.14s\n",
      "  15    17.95          3.59356       18         0.253314              N/A     36.73s\n",
      "  16    17.88          3.58667       18         0.253314              N/A     34.42s\n",
      "  17    18.05          3.72129       18         0.253314              N/A     33.53s\n",
      "  18    17.96           3.8621       18         0.249066              N/A     28.96s\n",
      "  19    17.90          3.65631       18         0.249066              N/A     25.59s\n",
      "  20    17.73          3.88889       16         0.245769              N/A     23.21s\n",
      "  21    17.94          3.15081       16         0.245769              N/A     20.62s\n",
      "  22    17.27          6.38839       16         0.245769              N/A     18.28s\n",
      "  23    16.04          3.05385       16         0.245737              N/A     15.01s\n",
      "  24    15.90          3.10701       16         0.245737              N/A     12.50s\n",
      "  25    15.96          3.14303       16         0.245737              N/A     10.03s\n",
      "  26    15.92          4.61785       16         0.245737              N/A      8.07s\n",
      "  27    15.97          3.27006       16         0.245737              N/A      5.05s\n",
      "  28    16.00          3.12602       16         0.245654              N/A      2.57s\n",
      "  29    15.98          3.31811       16         0.245654              N/A      0.00s\n",
      "add(mul(neg(X0), sin(X0)), add(log(add(mul(-0.387, X0), -0.387)), neg(log(0.121))))\n"
     ]
    }
   ],
   "source": [
    "exponential = make_function(function=exp, name='exp', arity=1)\n",
    "\n",
    "\n",
    "est_gp = SymbolicRegressor(population_size=5000,\n",
    "                           generations=30,\n",
    "                           tournament_size = 50,\n",
    "                           stopping_criteria=0.01,\n",
    "                           const_range = (-1,1),\n",
    "                           function_set = ['add', 'sub', 'mul', 'sin', 'neg','log','neg'],\n",
    "                           p_crossover=0.7,\n",
    "                           p_subtree_mutation=0.05,\n",
    "                           p_hoist_mutation = 0.01,\n",
    "                           p_point_mutation = 0.1,\n",
    "                           verbose=.1,\n",
    "                           parsimony_coefficient=0.003)\n",
    "\n",
    "est_gp.fit(x,fun[-1] )\n",
    "print(est_gp._program)"
   ]
  },
  {
   "cell_type": "code",
   "execution_count": 133,
   "metadata": {},
   "outputs": [
    {
     "data": {
      "text/plain": [
       "[<matplotlib.lines.Line2D at 0x7fe5b0d3bd68>]"
      ]
     },
     "execution_count": 133,
     "metadata": {},
     "output_type": "execute_result"
    },
    {
     "data": {
      "image/png": "[encoded data removed]",
      "text/plain": [
       "<Figure size 432x288 with 1 Axes>"
      ]
     },
     "metadata": {
      "needs_background": "light"
     },
     "output_type": "display_data"
    }
   ],
   "source": [
    "X0=x\n",
    "y1 = add(mul(neg(X0), sin(X0)), add(log(add(mul(-0.387, X0), -0.387)), neg(log(0.121))))\n",
    "\n",
    "# Se puede simplificar a la expresion:\n",
    "y2 = -X0*np.sin(X0) + np.log(X0+1) + 1.1626341474330406\n",
    "\n",
    "y_correct = 0.64+np.log(x+1)-np.sin(x)*x\n",
    "#y = mul(sub(sin(X0), neg(-0.381)), add(neg(X0), sin(X0)))\n",
    "#(sin(x0)-0.381)*(-x0 + sin(x0))\n",
    "\n",
    "#y = add(neg(log(0.054)), mul(neg(add(sin(sin(mul(add(X0, 0.555), neg(sin(sin(X0)))))), sub(-0.218, X0))), neg(sin(sin(X0)))))\n",
    "plt.plot(x,y1)\n",
    "#plt.plot(x,y_correct)\n",
    "#plt.plot(x,fun[-1])"
   ]
  },
  {
   "cell_type": "code",
   "execution_count": 130,
   "metadata": {},
   "outputs": [
    {
     "name": "stdout",
     "output_type": "stream",
     "text": [
      "add(mul(neg(X0), sin(X0)), add(log(add(mul(-0.387, X0), -0.387)), neg(log(0.121))))\n"
     ]
    },
    {
     "data": {
      "text/plain": [
       "{'method': 'Reproduction', 'parent_idx': 4799, 'parent_nodes': []}"
      ]
     },
     "execution_count": 130,
     "metadata": {},
     "output_type": "execute_result"
    }
   ],
   "source": [
    "print(est_gp)\n",
    "est_gp._program.parents\n",
    "#print(est_gp.raw_fitness_)\n",
    "delattr(est, '_programs')\n"
   ]
  },
  {
   "cell_type": "code",
   "execution_count": null,
   "metadata": {},
   "outputs": [],
   "source": []
  }
 ],
 "metadata": {
  "kernelspec": {
   "display_name": "Python 3",
   "language": "python",
   "name": "python3"
  },
  "language_info": {
   "codemirror_mode": {
    "name": "ipython",
    "version": 3
   },
   "file_extension": ".py",
   "mimetype": "text/x-python",
   "name": "python",
   "nbconvert_exporter": "python",
   "pygments_lexer": "ipython3",
   "version": "3.7.3"
  }
 },
 "nbformat": 4,
 "nbformat_minor": 2
}
